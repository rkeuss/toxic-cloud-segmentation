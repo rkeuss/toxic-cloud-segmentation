{
 "cells": [
  {
   "metadata": {},
   "cell_type": "markdown",
   "source": "# Exploratory Data Analysis",
   "id": "90f479a6915cb744"
  },
  {
   "metadata": {},
   "cell_type": "markdown",
   "source": [
    "## 1. Personal Information\n",
    "Name: Rosa Keuss\n",
    "\n",
    "Student id: 12690589\n",
    "\n",
    "E-mail address: rosa.keuss@student.uva.nl\n",
    "\n",
    "Submitted on: 14-03-2025\n",
    "\n",
    "Github repository: https://github.com/rkeuss/toxic-cloud-segmentation"
   ],
   "id": "6a87624dc78a9f0f"
  },
  {
   "metadata": {},
   "cell_type": "markdown",
   "source": [
    "## 2. Data Context\n",
    "[nog schrijven]"
   ],
   "id": "946b8fc484fb546f"
  },
  {
   "metadata": {},
   "cell_type": "markdown",
   "source": "## 3. Data Description",
   "id": "4dbcafd71e41e84f"
  },
  {
   "metadata": {},
   "cell_type": "markdown",
   "source": "### Load data",
   "id": "79f35bc938ff0094"
  },
  {
   "metadata": {},
   "cell_type": "code",
   "outputs": [],
   "execution_count": null,
   "source": "",
   "id": "c98646a167ec012c"
  },
  {
   "metadata": {},
   "cell_type": "markdown",
   "source": "### Clean data",
   "id": "423a6da36444edae"
  },
  {
   "metadata": {},
   "cell_type": "code",
   "outputs": [],
   "execution_count": null,
   "source": "",
   "id": "c5f9b7c3851ae86"
  },
  {
   "metadata": {},
   "cell_type": "markdown",
   "source": "## 4. Backup dataset (SMOKE5K)",
   "id": "208a0dada86333a5"
  },
  {
   "metadata": {},
   "cell_type": "code",
   "outputs": [],
   "execution_count": null,
   "source": "",
   "id": "5028ed3afad0d730"
  },
  {
   "metadata": {},
   "cell_type": "markdown",
   "source": "## 5. Baseline model",
   "id": "870b535cebfe4b8c"
  },
  {
   "metadata": {},
   "cell_type": "code",
   "outputs": [],
   "execution_count": null,
   "source": "",
   "id": "c0abe2182cfdf2a6"
  },
  {
   "metadata": {},
   "cell_type": "markdown",
   "source": "## 6. References",
   "id": "44be16f583405245"
  },
  {
   "metadata": {},
   "cell_type": "code",
   "outputs": [],
   "execution_count": null,
   "source": "",
   "id": "f8cc94db85e1a1a6"
  }
 ],
 "metadata": {
  "kernelspec": {
   "display_name": "Python 3",
   "language": "python",
   "name": "python3"
  },
  "language_info": {
   "codemirror_mode": {
    "name": "ipython",
    "version": 2
   },
   "file_extension": ".py",
   "mimetype": "text/x-python",
   "name": "python",
   "nbconvert_exporter": "python",
   "pygments_lexer": "ipython2",
   "version": "2.7.6"
  }
 },
 "nbformat": 4,
 "nbformat_minor": 5
}
